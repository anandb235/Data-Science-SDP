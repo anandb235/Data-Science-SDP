{
 "cells": [
  {
   "cell_type": "markdown",
   "id": "1daf4202",
   "metadata": {},
   "source": [
    "### Emotion Detector App using Streamlit\n",
    "- Detecting emotion\n",
    "- Text Classifier"
   ]
  },
  {
   "cell_type": "code",
   "execution_count": 66,
   "id": "a2b327c9",
   "metadata": {},
   "outputs": [
    {
     "ename": "ModuleNotFoundError",
     "evalue": "No module named 'pycaret'",
     "output_type": "error",
     "traceback": [
      "\u001b[1;31m---------------------------------------------------------------------------\u001b[0m",
      "\u001b[1;31mModuleNotFoundError\u001b[0m                       Traceback (most recent call last)",
      "\u001b[1;32m~\\AppData\\Local\\Temp/ipykernel_17360/2900347779.py\u001b[0m in \u001b[0;36m<module>\u001b[1;34m\u001b[0m\n\u001b[0;32m     35\u001b[0m \u001b[1;33m\u001b[0m\u001b[0m\n\u001b[0;32m     36\u001b[0m \u001b[1;31m#importing pycaret\u001b[0m\u001b[1;33m\u001b[0m\u001b[1;33m\u001b[0m\u001b[1;33m\u001b[0m\u001b[0m\n\u001b[1;32m---> 37\u001b[1;33m \u001b[1;32mfrom\u001b[0m \u001b[0mpycaret\u001b[0m\u001b[1;33m.\u001b[0m\u001b[0mdatasets\u001b[0m \u001b[1;32mimport\u001b[0m \u001b[0mget_data\u001b[0m\u001b[1;33m\u001b[0m\u001b[1;33m\u001b[0m\u001b[0m\n\u001b[0m\u001b[0;32m     38\u001b[0m \u001b[1;32mfrom\u001b[0m \u001b[0mpycaret\u001b[0m\u001b[1;33m.\u001b[0m\u001b[0mclassification\u001b[0m \u001b[1;32mimport\u001b[0m \u001b[1;33m*\u001b[0m\u001b[1;33m\u001b[0m\u001b[1;33m\u001b[0m\u001b[0m\n",
      "\u001b[1;31mModuleNotFoundError\u001b[0m: No module named 'pycaret'"
     ]
    }
   ],
   "source": [
    "# Import Packages\n",
    "\n",
    "import joblib\n",
    "\n",
    "# Exploratory Data Analysis (EDA) Packages\n",
    "import pandas as pd\n",
    "import numpy as np\n",
    "\n",
    "# Visualization Packages\n",
    "import matplotlib.pyplot as plt\n",
    "import seaborn as sns\n",
    "\n",
    "# Text Cleaning \n",
    "import neattext.functions as nfx\n",
    "\n",
    "# Machine Learning Packages\n",
    "from sklearn.feature_extraction.text import CountVectorizer\n",
    "from sklearn.model_selection import train_test_split\n",
    "from sklearn.pipeline import Pipeline\n",
    "from sklearn.naive_bayes import MultinomialNB\n",
    "from sklearn.metrics import accuracy_score, confusion_matrix, classification_report\n",
    "\n",
    "\n",
    "# Importing all models\n",
    "from sklearn.linear_model import LogisticRegression\n",
    "from sklearn.neighbors import KNeighborsClassifier\n",
    "from sklearn.svm import SVC\n",
    "from sklearn.cluster import KMeans\n",
    "from sklearn.ensemble import RandomForestClassifier\n",
    "from xgboost import XGBClassifier\n",
    "from sklearn.ensemble import ExtraTreesClassifier\n",
    "from sklearn.tree import DecisionTreeClassifier\n",
    "from sklearn.linear_model import RidgeClassifier\n",
    "from sklearn.ensemble import AdaBoostClassifier\n",
    "\n",
    "#importing pycaret\n",
    "from pycaret.datasets import get_data\n",
    "from pycaret.classification import * "
   ]
  },
  {
   "cell_type": "code",
   "execution_count": 48,
   "id": "abbed1b7",
   "metadata": {},
   "outputs": [],
   "source": [
    "# Setting properties\n",
    "pd.set_option('display.max_colwidth', None)"
   ]
  },
  {
   "cell_type": "code",
   "execution_count": 49,
   "id": "8fe6a9bb",
   "metadata": {},
   "outputs": [],
   "source": [
    "# Load the dataset\n",
    "df = pd.read_csv(\"../data/emotion_dataset_raw.csv\")"
   ]
  },
  {
   "cell_type": "code",
   "execution_count": 50,
   "id": "d3f16ea8",
   "metadata": {
    "scrolled": true
   },
   "outputs": [
    {
     "name": "stdout",
     "output_type": "stream",
     "text": [
      "<class 'pandas.core.frame.DataFrame'>\n",
      "RangeIndex: 34792 entries, 0 to 34791\n",
      "Data columns (total 2 columns):\n",
      " #   Column   Non-Null Count  Dtype \n",
      "---  ------   --------------  ----- \n",
      " 0   Emotion  34792 non-null  object\n",
      " 1   Text     34792 non-null  object\n",
      "dtypes: object(2)\n",
      "memory usage: 543.8+ KB\n"
     ]
    }
   ],
   "source": [
    "df.info()"
   ]
  },
  {
   "cell_type": "code",
   "execution_count": 29,
   "id": "4b18853a",
   "metadata": {},
   "outputs": [
    {
     "data": {
      "text/html": [
       "<div>\n",
       "<style scoped>\n",
       "    .dataframe tbody tr th:only-of-type {\n",
       "        vertical-align: middle;\n",
       "    }\n",
       "\n",
       "    .dataframe tbody tr th {\n",
       "        vertical-align: top;\n",
       "    }\n",
       "\n",
       "    .dataframe thead th {\n",
       "        text-align: right;\n",
       "    }\n",
       "</style>\n",
       "<table border=\"1\" class=\"dataframe\">\n",
       "  <thead>\n",
       "    <tr style=\"text-align: right;\">\n",
       "      <th></th>\n",
       "      <th>Emotion</th>\n",
       "      <th>Text</th>\n",
       "    </tr>\n",
       "  </thead>\n",
       "  <tbody>\n",
       "    <tr>\n",
       "      <th>0</th>\n",
       "      <td>neutral</td>\n",
       "      <td>Why ?</td>\n",
       "    </tr>\n",
       "    <tr>\n",
       "      <th>1</th>\n",
       "      <td>joy</td>\n",
       "      <td>Sage Act upgrade on my to do list for tommorow.</td>\n",
       "    </tr>\n",
       "    <tr>\n",
       "      <th>2</th>\n",
       "      <td>sadness</td>\n",
       "      <td>ON THE WAY TO MY HOMEGIRL BABY FUNERAL!!! MAN I HATE FUNERALS THIS REALLY SHOWS ME HOW BLESSED I AM</td>\n",
       "    </tr>\n",
       "    <tr>\n",
       "      <th>3</th>\n",
       "      <td>joy</td>\n",
       "      <td>Such an eye ! The true hazel eye-and so brilliant ! Regular features , open countenance , with a complexion , Oh ! What a bloom of full health , and such a pretty height and size ; such a firm and upright figure ! There is health , not merely in her bloom , but in her air , her head , her glance . One hears sometimes of a child being ' the picture of health ' ; now , she always gives me the idea of being the complete picture of grown-up health . She is loveliness itself .</td>\n",
       "    </tr>\n",
       "    <tr>\n",
       "      <th>4</th>\n",
       "      <td>joy</td>\n",
       "      <td>@Iluvmiasantos ugh babe.. hugggzzz for u .!  babe naamazed nga ako e babe e, despite nega's mas pinaramdam at fil ko ang</td>\n",
       "    </tr>\n",
       "  </tbody>\n",
       "</table>\n",
       "</div>"
      ],
      "text/plain": [
       "   Emotion  \\\n",
       "0  neutral   \n",
       "1      joy   \n",
       "2  sadness   \n",
       "3      joy   \n",
       "4      joy   \n",
       "\n",
       "                                                                                                                                                                                                                                                                                                                                                                                                                                                                                             Text  \n",
       "0                                                                                                                                                                                                                                                                                                                                                                                                                                                                                          Why ?   \n",
       "1                                                                                                                                                                                                                                                                                                                                                                                                                                                 Sage Act upgrade on my to do list for tommorow.  \n",
       "2                                                                                                                                                                                                                                                                                                                                                                                            ON THE WAY TO MY HOMEGIRL BABY FUNERAL!!! MAN I HATE FUNERALS THIS REALLY SHOWS ME HOW BLESSED I AM   \n",
       "3   Such an eye ! The true hazel eye-and so brilliant ! Regular features , open countenance , with a complexion , Oh ! What a bloom of full health , and such a pretty height and size ; such a firm and upright figure ! There is health , not merely in her bloom , but in her air , her head , her glance . One hears sometimes of a child being ' the picture of health ' ; now , she always gives me the idea of being the complete picture of grown-up health . She is loveliness itself .   \n",
       "4                                                                                                                                                                                                                                                                                                                                                                       @Iluvmiasantos ugh babe.. hugggzzz for u .!  babe naamazed nga ako e babe e, despite nega's mas pinaramdam at fil ko ang   "
      ]
     },
     "execution_count": 29,
     "metadata": {},
     "output_type": "execute_result"
    }
   ],
   "source": [
    "df.head()"
   ]
  },
  {
   "cell_type": "code",
   "execution_count": 51,
   "id": "9386fee3",
   "metadata": {},
   "outputs": [
    {
     "data": {
      "text/plain": [
       "array(['neutral', 'joy', 'sadness', 'fear', 'surprise', 'anger', 'shame',\n",
       "       'disgust'], dtype=object)"
      ]
     },
     "execution_count": 51,
     "metadata": {},
     "output_type": "execute_result"
    }
   ],
   "source": [
    "df['Emotion'].unique()"
   ]
  },
  {
   "cell_type": "code",
   "execution_count": 52,
   "id": "6deadad1",
   "metadata": {},
   "outputs": [
    {
     "data": {
      "text/plain": [
       "joy         11045\n",
       "sadness      6722\n",
       "fear         5410\n",
       "anger        4297\n",
       "surprise     4062\n",
       "neutral      2254\n",
       "disgust       856\n",
       "shame         146\n",
       "Name: Emotion, dtype: int64"
      ]
     },
     "execution_count": 52,
     "metadata": {},
     "output_type": "execute_result"
    }
   ],
   "source": [
    "# Counting rows for Emotion types\n",
    "df['Emotion'].value_counts()"
   ]
  },
  {
   "cell_type": "code",
   "execution_count": 53,
   "id": "8fbaae35",
   "metadata": {},
   "outputs": [
    {
     "data": {
      "image/png": "[encoded data removed]",
      "text/plain": [
       "<Figure size 432x288 with 1 Axes>"
      ]
     },
     "metadata": {
      "needs_background": "light"
     },
     "output_type": "display_data"
    }
   ],
   "source": [
    "### Plot count of emotions\n",
    "sns.countplot(x='Emotion', data=df)\n",
    "plt.title(\"Count of Different types of Emotions\")\n",
    "plt.show()"
   ]
  },
  {
   "cell_type": "code",
   "execution_count": 11,
   "id": "b7e4e551",
   "metadata": {},
   "outputs": [
    {
     "data": {
      "text/plain": [
       "(34792, 2)"
      ]
     },
     "execution_count": 11,
     "metadata": {},
     "output_type": "execute_result"
    }
   ],
   "source": [
    "df.shape"
   ]
  },
  {
   "cell_type": "code",
   "execution_count": 54,
   "id": "4f289243",
   "metadata": {},
   "outputs": [
    {
     "data": {
      "text/plain": [
       "(31162, 2)"
      ]
     },
     "execution_count": 54,
     "metadata": {},
     "output_type": "execute_result"
    }
   ],
   "source": [
    "df.drop_duplicates().shape"
   ]
  },
  {
   "cell_type": "code",
   "execution_count": 55,
   "id": "bb65e798",
   "metadata": {},
   "outputs": [],
   "source": [
    "df = df.drop_duplicates()"
   ]
  },
  {
   "cell_type": "code",
   "execution_count": 56,
   "id": "3252cd9a",
   "metadata": {},
   "outputs": [
    {
     "data": {
      "text/plain": [
       "(31110, 2)"
      ]
     },
     "execution_count": 56,
     "metadata": {},
     "output_type": "execute_result"
    }
   ],
   "source": [
    "df.drop_duplicates(['Text']).shape"
   ]
  },
  {
   "cell_type": "code",
   "execution_count": 57,
   "id": "e3f336cd",
   "metadata": {},
   "outputs": [
    {
     "data": {
      "text/plain": [
       "['BTC_ADDRESS_REGEX',\n",
       " 'CURRENCY_REGEX',\n",
       " 'CURRENCY_SYMB_REGEX',\n",
       " 'Counter',\n",
       " 'DATE_REGEX',\n",
       " 'EMAIL_REGEX',\n",
       " 'EMOJI_REGEX',\n",
       " 'HASTAG_REGEX',\n",
       " 'MASTERCard_REGEX',\n",
       " 'MD5_SHA_REGEX',\n",
       " 'MOST_COMMON_PUNCT_REGEX',\n",
       " 'NUMBERS_REGEX',\n",
       " 'PHONE_REGEX',\n",
       " 'PoBOX_REGEX',\n",
       " 'SPECIAL_CHARACTERS_REGEX',\n",
       " 'STOPWORDS',\n",
       " 'STOPWORDS_de',\n",
       " 'STOPWORDS_en',\n",
       " 'STOPWORDS_es',\n",
       " 'STOPWORDS_fr',\n",
       " 'STOPWORDS_ru',\n",
       " 'STOPWORDS_yo',\n",
       " 'STREET_ADDRESS_REGEX',\n",
       " 'TextFrame',\n",
       " 'URL_PATTERN',\n",
       " 'USER_HANDLES_REGEX',\n",
       " 'VISACard_REGEX',\n",
       " '__builtins__',\n",
       " '__cached__',\n",
       " '__doc__',\n",
       " '__file__',\n",
       " '__generate_text',\n",
       " '__loader__',\n",
       " '__name__',\n",
       " '__numbers_dict',\n",
       " '__package__',\n",
       " '__spec__',\n",
       " '_lex_richness_herdan',\n",
       " '_lex_richness_maas_ttr',\n",
       " 'clean_text',\n",
       " 'defaultdict',\n",
       " 'digit2words',\n",
       " 'extract_btc_address',\n",
       " 'extract_currencies',\n",
       " 'extract_currency_symbols',\n",
       " 'extract_dates',\n",
       " 'extract_emails',\n",
       " 'extract_emojis',\n",
       " 'extract_hashtags',\n",
       " 'extract_html_tags',\n",
       " 'extract_mastercard_addr',\n",
       " 'extract_md5sha',\n",
       " 'extract_numbers',\n",
       " 'extract_pattern',\n",
       " 'extract_phone_numbers',\n",
       " 'extract_postoffice_box',\n",
       " 'extract_shortwords',\n",
       " 'extract_special_characters',\n",
       " 'extract_stopwords',\n",
       " 'extract_street_address',\n",
       " 'extract_urls',\n",
       " 'extract_userhandles',\n",
       " 'extract_visacard_addr',\n",
       " 'fix_contractions',\n",
       " 'generate_sentence',\n",
       " 'hamming_distance',\n",
       " 'inverse_df',\n",
       " 'lexical_richness',\n",
       " 'markov_chain',\n",
       " 'math',\n",
       " 'nlargest',\n",
       " 'normalize',\n",
       " 'num2words',\n",
       " 'random',\n",
       " 're',\n",
       " 'read_txt',\n",
       " 'remove_bad_quotes',\n",
       " 'remove_btc_address',\n",
       " 'remove_currencies',\n",
       " 'remove_currency_symbols',\n",
       " 'remove_custom_pattern',\n",
       " 'remove_custom_words',\n",
       " 'remove_dates',\n",
       " 'remove_emails',\n",
       " 'remove_emojis',\n",
       " 'remove_hashtags',\n",
       " 'remove_html_tags',\n",
       " 'remove_mastercard_addr',\n",
       " 'remove_md5sha',\n",
       " 'remove_multiple_spaces',\n",
       " 'remove_non_ascii',\n",
       " 'remove_numbers',\n",
       " 'remove_phone_numbers',\n",
       " 'remove_postoffice_box',\n",
       " 'remove_puncts',\n",
       " 'remove_punctuations',\n",
       " 'remove_shortwords',\n",
       " 'remove_special_characters',\n",
       " 'remove_stopwords',\n",
       " 'remove_street_address',\n",
       " 'remove_urls',\n",
       " 'remove_userhandles',\n",
       " 'remove_visacard_addr',\n",
       " 'replace_bad_quotes',\n",
       " 'replace_currencies',\n",
       " 'replace_currency_symbols',\n",
       " 'replace_dates',\n",
       " 'replace_emails',\n",
       " 'replace_emojis',\n",
       " 'replace_numbers',\n",
       " 'replace_phone_numbers',\n",
       " 'replace_special_characters',\n",
       " 'replace_term',\n",
       " 'replace_urls',\n",
       " 'string',\n",
       " 'term_freq',\n",
       " 'to_txt',\n",
       " 'word_freq',\n",
       " 'word_length_freq']"
      ]
     },
     "execution_count": 57,
     "metadata": {},
     "output_type": "execute_result"
    }
   ],
   "source": [
    "# Data Cleaning\n",
    "dir(nfx)"
   ]
  },
  {
   "cell_type": "code",
   "execution_count": 58,
   "id": "3b70244e",
   "metadata": {
    "scrolled": true
   },
   "outputs": [],
   "source": [
    "# Removing Stopwords\n",
    "df['CleanText'] = df['Text'].apply(nfx.remove_stopwords)"
   ]
  },
  {
   "cell_type": "code",
   "execution_count": 59,
   "id": "9ad871bd",
   "metadata": {},
   "outputs": [],
   "source": [
    "# Remove Numbers\n",
    "df['CleanText'] = df['CleanText'].apply(nfx.remove_numbers)"
   ]
  },
  {
   "cell_type": "code",
   "execution_count": 60,
   "id": "d7f3e81d",
   "metadata": {},
   "outputs": [],
   "source": [
    "# Removing user handles\n",
    "df['CleanText'] = df['CleanText'].apply(nfx.remove_userhandles)"
   ]
  },
  {
   "cell_type": "code",
   "execution_count": 61,
   "id": "d2553de5",
   "metadata": {
    "scrolled": true
   },
   "outputs": [
    {
     "data": {
      "text/html": [
       "<div>\n",
       "<style scoped>\n",
       "    .dataframe tbody tr th:only-of-type {\n",
       "        vertical-align: middle;\n",
       "    }\n",
       "\n",
       "    .dataframe tbody tr th {\n",
       "        vertical-align: top;\n",
       "    }\n",
       "\n",
       "    .dataframe thead th {\n",
       "        text-align: right;\n",
       "    }\n",
       "</style>\n",
       "<table border=\"1\" class=\"dataframe\">\n",
       "  <thead>\n",
       "    <tr style=\"text-align: right;\">\n",
       "      <th></th>\n",
       "      <th>Emotion</th>\n",
       "      <th>Text</th>\n",
       "      <th>CleanText</th>\n",
       "    </tr>\n",
       "  </thead>\n",
       "  <tbody>\n",
       "    <tr>\n",
       "      <th>0</th>\n",
       "      <td>neutral</td>\n",
       "      <td>Why ?</td>\n",
       "      <td>?</td>\n",
       "    </tr>\n",
       "    <tr>\n",
       "      <th>1</th>\n",
       "      <td>joy</td>\n",
       "      <td>Sage Act upgrade on my to do list for tommorow.</td>\n",
       "      <td>Sage Act upgrade list tommorow.</td>\n",
       "    </tr>\n",
       "    <tr>\n",
       "      <th>2</th>\n",
       "      <td>sadness</td>\n",
       "      <td>ON THE WAY TO MY HOMEGIRL BABY FUNERAL!!! MAN I HATE FUNERALS THIS REALLY SHOWS ME HOW BLESSED I AM</td>\n",
       "      <td>WAY HOMEGIRL BABY FUNERAL!!! MAN HATE FUNERALS SHOWS BLESSED</td>\n",
       "    </tr>\n",
       "    <tr>\n",
       "      <th>3</th>\n",
       "      <td>joy</td>\n",
       "      <td>Such an eye ! The true hazel eye-and so brilliant ! Regular features , open countenance , with a complexion , Oh ! What a bloom of full health , and such a pretty height and size ; such a firm and upright figure ! There is health , not merely in her bloom , but in her air , her head , her glance . One hears sometimes of a child being ' the picture of health ' ; now , she always gives me the idea of being the complete picture of grown-up health . She is loveliness itself .</td>\n",
       "      <td>eye ! true hazel eye-and brilliant ! Regular features , open countenance , complexion , Oh ! bloom health , pretty height size ; firm upright figure ! health , merely bloom , air , head , glance . hears child ' picture health ' ; , gives idea complete picture grown-up health . loveliness .</td>\n",
       "    </tr>\n",
       "    <tr>\n",
       "      <th>4</th>\n",
       "      <td>joy</td>\n",
       "      <td>@Iluvmiasantos ugh babe.. hugggzzz for u .!  babe naamazed nga ako e babe e, despite nega's mas pinaramdam at fil ko ang</td>\n",
       "      <td>ugh babe.. hugggzzz u .! babe naamazed nga ako e babe e, despite nega's mas pinaramdam fil ko ang</td>\n",
       "    </tr>\n",
       "  </tbody>\n",
       "</table>\n",
       "</div>"
      ],
      "text/plain": [
       "   Emotion  \\\n",
       "0  neutral   \n",
       "1      joy   \n",
       "2  sadness   \n",
       "3      joy   \n",
       "4      joy   \n",
       "\n",
       "                                                                                                                                                                                                                                                                                                                                                                                                                                                                                             Text  \\\n",
       "0                                                                                                                                                                                                                                                                                                                                                                                                                                                                                          Why ?    \n",
       "1                                                                                                                                                                                                                                                                                                                                                                                                                                                 Sage Act upgrade on my to do list for tommorow.   \n",
       "2                                                                                                                                                                                                                                                                                                                                                                                            ON THE WAY TO MY HOMEGIRL BABY FUNERAL!!! MAN I HATE FUNERALS THIS REALLY SHOWS ME HOW BLESSED I AM    \n",
       "3   Such an eye ! The true hazel eye-and so brilliant ! Regular features , open countenance , with a complexion , Oh ! What a bloom of full health , and such a pretty height and size ; such a firm and upright figure ! There is health , not merely in her bloom , but in her air , her head , her glance . One hears sometimes of a child being ' the picture of health ' ; now , she always gives me the idea of being the complete picture of grown-up health . She is loveliness itself .    \n",
       "4                                                                                                                                                                                                                                                                                                                                                                       @Iluvmiasantos ugh babe.. hugggzzz for u .!  babe naamazed nga ako e babe e, despite nega's mas pinaramdam at fil ko ang    \n",
       "\n",
       "                                                                                                                                                                                                                                                                                            CleanText  \n",
       "0                                                                                                                                                                                                                                                                                                   ?  \n",
       "1                                                                                                                                                                                                                                                                     Sage Act upgrade list tommorow.  \n",
       "2                                                                                                                                                                                                                                        WAY HOMEGIRL BABY FUNERAL!!! MAN HATE FUNERALS SHOWS BLESSED  \n",
       "3  eye ! true hazel eye-and brilliant ! Regular features , open countenance , complexion , Oh ! bloom health , pretty height size ; firm upright figure ! health , merely bloom , air , head , glance . hears child ' picture health ' ; , gives idea complete picture grown-up health . loveliness .  \n",
       "4                                                                                                                                                                                                   ugh babe.. hugggzzz u .! babe naamazed nga ako e babe e, despite nega's mas pinaramdam fil ko ang  "
      ]
     },
     "execution_count": 61,
     "metadata": {},
     "output_type": "execute_result"
    }
   ],
   "source": [
    "df.head()"
   ]
  },
  {
   "cell_type": "code",
   "execution_count": 62,
   "id": "16ae12cc",
   "metadata": {},
   "outputs": [],
   "source": [
    "class md:\n",
    "  bold = '\\033[1m'\n",
    "  end = '\\033[0m'"
   ]
  },
  {
   "cell_type": "code",
   "execution_count": 63,
   "id": "51097afe",
   "metadata": {},
   "outputs": [],
   "source": [
    "def buildModels(x_train, x_test, y_train, y_test):\n",
    "      \n",
    "    dfs = results = names = []\n",
    "    \n",
    "    models = [\n",
    "      ('LGR', LogisticRegression()),\n",
    "      ('RFC', RandomForestClassifier()),\n",
    "      ('KNN', KNeighborsClassifier()),\n",
    "      ('SVM', SVC(probability=True)),\n",
    "      ('XGB', XGBClassifier()),\n",
    "      ('ETC', ExtraTreesClassifier()),\n",
    "      ('KMC', KMeans()),\n",
    "      ('DTC', DecisionTreeClassifier()),\n",
    "      ('RDC', RidgeClassifier()),\n",
    "      ('ADA', AdaBoostClassifier())\n",
    "    ]\n",
    "    \n",
    "    modelScore = []\n",
    "    for model in models:\n",
    "        print(md.bold + \"========================================  \" + model[0] + \"  ========================================\" + md.end)\n",
    "        # Creating pipeline\n",
    "        print(md.bold + \"Creating Pipeline...\" + md.end)\n",
    "        pipeline = Pipeline(steps=[('cv', CountVectorizer()), model])\n",
    "        \n",
    "        # Training model\n",
    "        print(md.bold + \"Training Model...\" + md.end)\n",
    "        pipeline.fit(x_train, y_train)\n",
    "        \n",
    "        # Getting Results\n",
    "        print(md.bold + \"Data:\" + md.end)\n",
    "        print(pipeline.predict([\"I am broke\"]))\n",
    "        # print(pipeline.predict_proba([\"I am broke\"]))\n",
    "        Score = pipeline.score(x_test, y_test)\n",
    "        print(\"Score:\", Score)\n",
    "        modelScore.append(Score)\n",
    "        \n",
    "        # Storing model\n",
    "        print(md.bold + \"Storing Model...\" + md.end)\n",
    "        with open(f\"../Models/{model[0]}.pkl\", \"wb\") as ec:\n",
    "            joblib.dump(pipeline, ec)\n",
    "        print(md.bold + \"Process Complete!!\\n\\n\\n\" + md.end)\n",
    "    print(\"Highest accuracy:\", models[modelScore.index(max(modelScore))])"
   ]
  },
  {
   "cell_type": "markdown",
   "id": "b49cca55",
   "metadata": {},
   "source": [
    "Target Variables = labels, y, dependent variable: Emotion column\n",
    "Feature - independent variables: Clean Text"
   ]
  },
  {
   "cell_type": "code",
   "execution_count": 64,
   "id": "73360bac",
   "metadata": {},
   "outputs": [],
   "source": [
    "x_train, x_test, y_train, y_test = train_test_split(\n",
    "    df['CleanText'], df['Emotion'], test_size=0.20, random_state=30)"
   ]
  },
  {
   "cell_type": "code",
   "execution_count": 65,
   "id": "c598b1b4",
   "metadata": {},
   "outputs": [
    {
     "name": "stdout",
     "output_type": "stream",
     "text": [
      "\u001b[1m========================================  LGR  ========================================\u001b[0m\n",
      "\u001b[1mCreating Pipeline...\u001b[0m\n",
      "\u001b[1mTraining Model...\u001b[0m\n"
     ]
    },
    {
     "name": "stderr",
     "output_type": "stream",
     "text": [
      "c:\\users\\anand\\appdata\\local\\programs\\python\\python39\\lib\\site-packages\\sklearn\\linear_model\\_logistic.py:763: ConvergenceWarning: lbfgs failed to converge (status=1):\n",
      "STOP: TOTAL NO. of ITERATIONS REACHED LIMIT.\n",
      "\n",
      "Increase the number of iterations (max_iter) or scale the data as shown in:\n",
      "    https://scikit-learn.org/stable/modules/preprocessing.html\n",
      "Please also refer to the documentation for alternative solver options:\n",
      "    https://scikit-learn.org/stable/modules/linear_model.html#logistic-regression\n",
      "  n_iter_i = _check_optimize_result(\n"
     ]
    },
    {
     "name": "stdout",
     "output_type": "stream",
     "text": [
      "\u001b[1mData:\u001b[0m\n",
      "['sadness']\n",
      "Score: 0.5801379752927964\n",
      "\u001b[1mStoring Model...\u001b[0m\n",
      "\u001b[1mProcess Complete!!\n",
      "\n",
      "\n",
      "\u001b[0m\n",
      "\u001b[1m========================================  RFC  ========================================\u001b[0m\n",
      "\u001b[1mCreating Pipeline...\u001b[0m\n",
      "\u001b[1mTraining Model...\u001b[0m\n",
      "\u001b[1mData:\u001b[0m\n",
      "['sadness']\n",
      "Score: 0.5405101877105728\n",
      "\u001b[1mStoring Model...\u001b[0m\n",
      "\u001b[1mProcess Complete!!\n",
      "\n",
      "\n",
      "\u001b[0m\n",
      "\u001b[1m========================================  KNN  ========================================\u001b[0m\n",
      "\u001b[1mCreating Pipeline...\u001b[0m\n",
      "\u001b[1mTraining Model...\u001b[0m\n",
      "\u001b[1mData:\u001b[0m\n",
      "['neutral']\n",
      "Score: 0.19894111984598106\n",
      "\u001b[1mStoring Model...\u001b[0m\n",
      "\u001b[1mProcess Complete!!\n",
      "\n",
      "\n",
      "\u001b[0m\n",
      "\u001b[1m========================================  SVM  ========================================\u001b[0m\n",
      "\u001b[1mCreating Pipeline...\u001b[0m\n",
      "\u001b[1mTraining Model...\u001b[0m\n",
      "\u001b[1mData:\u001b[0m\n",
      "['sadness']\n",
      "Score: 0.5721161559441681\n",
      "\u001b[1mStoring Model...\u001b[0m\n",
      "\u001b[1mProcess Complete!!\n",
      "\n",
      "\n",
      "\u001b[0m\n",
      "\u001b[1m========================================  XGB  ========================================\u001b[0m\n",
      "\u001b[1mCreating Pipeline...\u001b[0m\n",
      "\u001b[1mTraining Model...\u001b[0m\n"
     ]
    },
    {
     "name": "stderr",
     "output_type": "stream",
     "text": [
      "c:\\users\\anand\\appdata\\local\\programs\\python\\python39\\lib\\site-packages\\xgboost\\sklearn.py:1146: UserWarning: The use of label encoder in XGBClassifier is deprecated and will be removed in a future release. To remove this warning, do the following: 1) Pass option use_label_encoder=False when constructing XGBClassifier object; and 2) Encode your labels (y) as integers starting with 0, i.e. 0, 1, 2, ..., [num_class - 1].\n",
      "  warnings.warn(label_encoder_deprecation_msg, UserWarning)\n"
     ]
    },
    {
     "name": "stdout",
     "output_type": "stream",
     "text": [
      "[22:10:35] WARNING: C:/Users/Administrator/workspace/xgboost-win64_release_1.4.0/src/learner.cc:1095: Starting in XGBoost 1.3.0, the default evaluation metric used with the objective 'multi:softprob' was changed from 'merror' to 'mlogloss'. Explicitly set eval_metric if you'd like to restore the old behavior.\n",
      "\u001b[1mData:\u001b[0m\n",
      "['sadness']\n",
      "Score: 0.5443606609979144\n",
      "\u001b[1mStoring Model...\u001b[0m\n",
      "\u001b[1mProcess Complete!!\n",
      "\n",
      "\n",
      "\u001b[0m\n",
      "\u001b[1m========================================  ETC  ========================================\u001b[0m\n",
      "\u001b[1mCreating Pipeline...\u001b[0m\n",
      "\u001b[1mTraining Model...\u001b[0m\n",
      "\u001b[1mData:\u001b[0m\n",
      "['sadness']\n",
      "Score: 0.5440397882239691\n",
      "\u001b[1mStoring Model...\u001b[0m\n",
      "\u001b[1mProcess Complete!!\n",
      "\n",
      "\n",
      "\u001b[0m\n",
      "\u001b[1m========================================  KMC  ========================================\u001b[0m\n",
      "\u001b[1mCreating Pipeline...\u001b[0m\n",
      "\u001b[1mTraining Model...\u001b[0m\n",
      "\u001b[1mData:\u001b[0m\n",
      "[2]\n",
      "Score: -46787.0683722809\n",
      "\u001b[1mStoring Model...\u001b[0m\n",
      "\u001b[1mProcess Complete!!\n",
      "\n",
      "\n",
      "\u001b[0m\n",
      "\u001b[1m========================================  DTC  ========================================\u001b[0m\n",
      "\u001b[1mCreating Pipeline...\u001b[0m\n",
      "\u001b[1mTraining Model...\u001b[0m\n",
      "\u001b[1mData:\u001b[0m\n",
      "['sadness']\n",
      "Score: 0.477298251243382\n",
      "\u001b[1mStoring Model...\u001b[0m\n",
      "\u001b[1mProcess Complete!!\n",
      "\n",
      "\n",
      "\u001b[0m\n",
      "\u001b[1m========================================  RDC  ========================================\u001b[0m\n",
      "\u001b[1mCreating Pipeline...\u001b[0m\n",
      "\u001b[1mTraining Model...\u001b[0m\n",
      "\u001b[1mData:\u001b[0m\n",
      "['sadness']\n",
      "Score: 0.5494946253810364\n",
      "\u001b[1mStoring Model...\u001b[0m\n",
      "\u001b[1mProcess Complete!!\n",
      "\n",
      "\n",
      "\u001b[0m\n",
      "\u001b[1m========================================  ADA  ========================================\u001b[0m\n",
      "\u001b[1mCreating Pipeline...\u001b[0m\n",
      "\u001b[1mTraining Model...\u001b[0m\n",
      "\u001b[1mData:\u001b[0m\n",
      "['joy']\n",
      "Score: 0.34269212257339965\n",
      "\u001b[1mStoring Model...\u001b[0m\n",
      "\u001b[1mProcess Complete!!\n",
      "\n",
      "\n",
      "\u001b[0m\n",
      "Highest accuracy: ('LGR', LogisticRegression())\n"
     ]
    }
   ],
   "source": [
    "buildModels(x_train, x_test, y_train, y_test)"
   ]
  }
 ],
 "metadata": {
  "kernelspec": {
   "display_name": "Python 3 (ipykernel)",
   "language": "python",
   "name": "python3"
  },
  "language_info": {
   "codemirror_mode": {
    "name": "ipython",
    "version": 3
   },
   "file_extension": ".py",
   "mimetype": "text/x-python",
   "name": "python",
   "nbconvert_exporter": "python",
   "pygments_lexer": "ipython3",
   "version": "3.9.6"
  }
 },
 "nbformat": 4,
 "nbformat_minor": 5
}
